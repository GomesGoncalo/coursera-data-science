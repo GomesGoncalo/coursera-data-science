{
 "cells": [
  {
   "cell_type": "markdown",
   "id": "af53d399-8ac7-471e-8de3-27b702a0262c",
   "metadata": {},
   "source": [
    "# Data Science Tools and Ecosystem"
   ]
  },
  {
   "cell_type": "markdown",
   "id": "ccd3d6b9-7dc8-4567-ba80-7552779d1d28",
   "metadata": {},
   "source": [
    "In this notebook, Data Science Tools and Ecosystem are summarized."
   ]
  },
  {
   "cell_type": "markdown",
   "id": "1bf44691-4611-41eb-9852-347172a79ef8",
   "metadata": {},
   "source": [
    "## Author\n",
    "Goncalo Gomes"
   ]
  },
  {
   "cell_type": "markdown",
   "id": "2b2f67f1-7757-4e7d-96df-e626aa0cd651",
   "metadata": {},
   "source": [
    "**Objectives:**\n",
    "- List popular languages for Data Science\n",
    "- Commonly used libraries used by Data Scientists\n",
    "- Data Science Tools\n",
    "\n"
   ]
  },
  {
   "cell_type": "markdown",
   "id": "ced7f4aa-3213-49e2-996a-6bc1577182d0",
   "metadata": {
    "tags": []
   },
   "source": [
    "Some of the popular languages that Data Scientists use are:\n",
    "- Python\n",
    "- R\n",
    "- SQL"
   ]
  },
  {
   "cell_type": "markdown",
   "id": "fc7b4875-f63b-417e-a709-d0a407b57c17",
   "metadata": {},
   "source": [
    "Some of the commonly used libraries used by Data Scientists include:\n",
    "- pandas\n",
    "- matplotlib\n",
    "- numpy"
   ]
  },
  {
   "cell_type": "markdown",
   "id": "5f5deb4e-ab70-4b86-b0f0-5ee153cafd07",
   "metadata": {},
   "source": [
    "| Data Science Tools |\n",
    "| - |\n",
    "| Jupyter |\n",
    "|  Tableau |\n",
    "|  RStudio |"
   ]
  },
  {
   "cell_type": "markdown",
   "id": "24ae52b5-9100-4faa-a956-5ac5101a40bd",
   "metadata": {},
   "source": [
    "### Below are a few examples of evaluating arithmetic expressions in Python."
   ]
  },
  {
   "cell_type": "code",
   "execution_count": 2,
   "id": "c2cffc93-9a9e-4caa-bedf-c3fc53734b87",
   "metadata": {
    "tags": []
   },
   "outputs": [
    {
     "data": {
      "text/plain": [
       "17"
      ]
     },
     "execution_count": 2,
     "metadata": {},
     "output_type": "execute_result"
    }
   ],
   "source": [
    "# This a simple arithmetic expression to mutiply then add integers\n",
    "(3*4)+5"
   ]
  },
  {
   "cell_type": "code",
   "execution_count": 5,
   "id": "1ab114ad-c371-4673-ab8c-14858153d4fd",
   "metadata": {
    "tags": []
   },
   "outputs": [
    {
     "data": {
      "text/plain": [
       "3"
      ]
     },
     "execution_count": 5,
     "metadata": {},
     "output_type": "execute_result"
    }
   ],
   "source": [
    "# This will convert 200 minutes to hours by diving by 60\n",
    "200 // 60"
   ]
  }
 ],
 "metadata": {
  "kernelspec": {
   "display_name": "Python 3 (ipykernel)",
   "language": "python",
   "name": "python3"
  },
  "language_info": {
   "codemirror_mode": {
    "name": "ipython",
    "version": 3
   },
   "file_extension": ".py",
   "mimetype": "text/x-python",
   "name": "python",
   "nbconvert_exporter": "python",
   "pygments_lexer": "ipython3",
   "version": "3.9.2"
  }
 },
 "nbformat": 4,
 "nbformat_minor": 5
}
